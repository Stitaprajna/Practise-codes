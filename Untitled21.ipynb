{
  "nbformat": 4,
  "nbformat_minor": 0,
  "metadata": {
    "colab": {
      "name": "Untitled21.ipynb",
      "provenance": [],
      "authorship_tag": "ABX9TyNPCXUUfuvxHi8POvZjxclO",
      "include_colab_link": true
    },
    "kernelspec": {
      "name": "python3",
      "display_name": "Python 3"
    },
    "language_info": {
      "name": "python"
    }
  },
  "cells": [
    {
      "cell_type": "markdown",
      "metadata": {
        "id": "view-in-github",
        "colab_type": "text"
      },
      "source": [
        "<a href=\"https://colab.research.google.com/github/Stitaprajna/Practise-codes/blob/main/Untitled21.ipynb\" target=\"_parent\"><img src=\"https://colab.research.google.com/assets/colab-badge.svg\" alt=\"Open In Colab\"/></a>"
      ]
    },
    {
      "cell_type": "markdown",
      "source": [
        "# Task-1"
      ],
      "metadata": {
        "id": "8NDlA1iobkyW"
      }
    },
    {
      "cell_type": "code",
      "execution_count": 1,
      "metadata": {
        "colab": {
          "base_uri": "https://localhost:8080/"
        },
        "id": "lrp0WLN5FO8M",
        "outputId": "e22f0eb6-2b9f-41c9-a36e-efc9a56fe4fb"
      },
      "outputs": [
        {
          "output_type": "stream",
          "name": "stdout",
          "text": [
            "Looking in indexes: https://pypi.org/simple, https://us-python.pkg.dev/colab-wheels/public/simple/\n",
            "Collecting yfinance\n",
            "  Downloading yfinance-0.1.74-py2.py3-none-any.whl (27 kB)\n",
            "Collecting requests>=2.26\n",
            "  Downloading requests-2.28.1-py3-none-any.whl (62 kB)\n",
            "\u001b[K     |████████████████████████████████| 62 kB 1.5 MB/s \n",
            "\u001b[?25hRequirement already satisfied: pandas>=0.24.0 in /usr/local/lib/python3.7/dist-packages (from yfinance) (1.3.5)\n",
            "Requirement already satisfied: multitasking>=0.0.7 in /usr/local/lib/python3.7/dist-packages (from yfinance) (0.0.11)\n",
            "Requirement already satisfied: lxml>=4.5.1 in /usr/local/lib/python3.7/dist-packages (from yfinance) (4.9.1)\n",
            "Requirement already satisfied: numpy>=1.15 in /usr/local/lib/python3.7/dist-packages (from yfinance) (1.21.6)\n",
            "Requirement already satisfied: python-dateutil>=2.7.3 in /usr/local/lib/python3.7/dist-packages (from pandas>=0.24.0->yfinance) (2.8.2)\n",
            "Requirement already satisfied: pytz>=2017.3 in /usr/local/lib/python3.7/dist-packages (from pandas>=0.24.0->yfinance) (2022.2.1)\n",
            "Requirement already satisfied: six>=1.5 in /usr/local/lib/python3.7/dist-packages (from python-dateutil>=2.7.3->pandas>=0.24.0->yfinance) (1.15.0)\n",
            "Requirement already satisfied: charset-normalizer<3,>=2 in /usr/local/lib/python3.7/dist-packages (from requests>=2.26->yfinance) (2.1.0)\n",
            "Requirement already satisfied: idna<4,>=2.5 in /usr/local/lib/python3.7/dist-packages (from requests>=2.26->yfinance) (2.10)\n",
            "Requirement already satisfied: urllib3<1.27,>=1.21.1 in /usr/local/lib/python3.7/dist-packages (from requests>=2.26->yfinance) (1.24.3)\n",
            "Requirement already satisfied: certifi>=2017.4.17 in /usr/local/lib/python3.7/dist-packages (from requests>=2.26->yfinance) (2022.6.15)\n",
            "Installing collected packages: requests, yfinance\n",
            "  Attempting uninstall: requests\n",
            "    Found existing installation: requests 2.23.0\n",
            "    Uninstalling requests-2.23.0:\n",
            "      Successfully uninstalled requests-2.23.0\n",
            "Successfully installed requests-2.28.1 yfinance-0.1.74\n"
          ]
        }
      ],
      "source": [
        "!pip install yfinance\n",
        "import yfinance as yf\n",
        "import pandas as pd"
      ]
    },
    {
      "cell_type": "code",
      "source": [
        "class Stock_Detail:\n",
        "    def __init__(self,symbol=None, timeframe = None,period = None, precision = None ):\n",
        "        self.symbol = symbol\n",
        "        self.timeframe = timeframe\n",
        "        self.period = period\n",
        "        self.precision = precision\n",
        "        \n",
        "    def Information(self,symbol,timeframe,period,precision):\n",
        "        df = yf.download('{}.NS'.format(symbol), period= period, interval = timeframe,progress=False,precision=precision)\n",
        "        df.columns = ['open','high','low','close','adj_close','volume']\n",
        "        df = df[['open','high','low','close','volume']]\n",
        "        df.reset_index(inplace=True)\n",
        "        df.dropna(axis=0,inplace=True)\n",
        "        df = df.round(decimals=2)\n",
        "        return df"
      ],
      "metadata": {
        "id": "5dy8ksycGZuP"
      },
      "execution_count": 2,
      "outputs": []
    },
    {
      "cell_type": "code",
      "source": [
        "st = Stock_Detail()\n",
        "df = st.Information('SBIN','1m','2d',0.9)\n",
        "df.head()"
      ],
      "metadata": {
        "colab": {
          "base_uri": "https://localhost:8080/",
          "height": 206
        },
        "id": "zQ_a_We5G5_B",
        "outputId": "bbe622d7-900e-4d36-d876-e87f96cc2d6b"
      },
      "execution_count": 3,
      "outputs": [
        {
          "output_type": "execute_result",
          "data": {
            "text/plain": [
              "                   Datetime    open    high     low   close  volume\n",
              "0 2022-08-19 09:15:00+05:30  532.25  533.55  532.00  532.20       0\n",
              "1 2022-08-19 09:16:00+05:30  532.10  532.80  531.45  532.70   58889\n",
              "2 2022-08-19 09:17:00+05:30  532.55  532.70  531.65  532.05   38506\n",
              "3 2022-08-19 09:18:00+05:30  532.00  532.00  531.70  531.80   19822\n",
              "4 2022-08-19 09:19:00+05:30  531.75  531.90  531.20  531.45   41483"
            ],
            "text/html": [
              "\n",
              "  <div id=\"df-f7c455bc-4f58-45c4-acca-2bc8c42e1bb5\">\n",
              "    <div class=\"colab-df-container\">\n",
              "      <div>\n",
              "<style scoped>\n",
              "    .dataframe tbody tr th:only-of-type {\n",
              "        vertical-align: middle;\n",
              "    }\n",
              "\n",
              "    .dataframe tbody tr th {\n",
              "        vertical-align: top;\n",
              "    }\n",
              "\n",
              "    .dataframe thead th {\n",
              "        text-align: right;\n",
              "    }\n",
              "</style>\n",
              "<table border=\"1\" class=\"dataframe\">\n",
              "  <thead>\n",
              "    <tr style=\"text-align: right;\">\n",
              "      <th></th>\n",
              "      <th>Datetime</th>\n",
              "      <th>open</th>\n",
              "      <th>high</th>\n",
              "      <th>low</th>\n",
              "      <th>close</th>\n",
              "      <th>volume</th>\n",
              "    </tr>\n",
              "  </thead>\n",
              "  <tbody>\n",
              "    <tr>\n",
              "      <th>0</th>\n",
              "      <td>2022-08-19 09:15:00+05:30</td>\n",
              "      <td>532.25</td>\n",
              "      <td>533.55</td>\n",
              "      <td>532.00</td>\n",
              "      <td>532.20</td>\n",
              "      <td>0</td>\n",
              "    </tr>\n",
              "    <tr>\n",
              "      <th>1</th>\n",
              "      <td>2022-08-19 09:16:00+05:30</td>\n",
              "      <td>532.10</td>\n",
              "      <td>532.80</td>\n",
              "      <td>531.45</td>\n",
              "      <td>532.70</td>\n",
              "      <td>58889</td>\n",
              "    </tr>\n",
              "    <tr>\n",
              "      <th>2</th>\n",
              "      <td>2022-08-19 09:17:00+05:30</td>\n",
              "      <td>532.55</td>\n",
              "      <td>532.70</td>\n",
              "      <td>531.65</td>\n",
              "      <td>532.05</td>\n",
              "      <td>38506</td>\n",
              "    </tr>\n",
              "    <tr>\n",
              "      <th>3</th>\n",
              "      <td>2022-08-19 09:18:00+05:30</td>\n",
              "      <td>532.00</td>\n",
              "      <td>532.00</td>\n",
              "      <td>531.70</td>\n",
              "      <td>531.80</td>\n",
              "      <td>19822</td>\n",
              "    </tr>\n",
              "    <tr>\n",
              "      <th>4</th>\n",
              "      <td>2022-08-19 09:19:00+05:30</td>\n",
              "      <td>531.75</td>\n",
              "      <td>531.90</td>\n",
              "      <td>531.20</td>\n",
              "      <td>531.45</td>\n",
              "      <td>41483</td>\n",
              "    </tr>\n",
              "  </tbody>\n",
              "</table>\n",
              "</div>\n",
              "      <button class=\"colab-df-convert\" onclick=\"convertToInteractive('df-f7c455bc-4f58-45c4-acca-2bc8c42e1bb5')\"\n",
              "              title=\"Convert this dataframe to an interactive table.\"\n",
              "              style=\"display:none;\">\n",
              "        \n",
              "  <svg xmlns=\"http://www.w3.org/2000/svg\" height=\"24px\"viewBox=\"0 0 24 24\"\n",
              "       width=\"24px\">\n",
              "    <path d=\"M0 0h24v24H0V0z\" fill=\"none\"/>\n",
              "    <path d=\"M18.56 5.44l.94 2.06.94-2.06 2.06-.94-2.06-.94-.94-2.06-.94 2.06-2.06.94zm-11 1L8.5 8.5l.94-2.06 2.06-.94-2.06-.94L8.5 2.5l-.94 2.06-2.06.94zm10 10l.94 2.06.94-2.06 2.06-.94-2.06-.94-.94-2.06-.94 2.06-2.06.94z\"/><path d=\"M17.41 7.96l-1.37-1.37c-.4-.4-.92-.59-1.43-.59-.52 0-1.04.2-1.43.59L10.3 9.45l-7.72 7.72c-.78.78-.78 2.05 0 2.83L4 21.41c.39.39.9.59 1.41.59.51 0 1.02-.2 1.41-.59l7.78-7.78 2.81-2.81c.8-.78.8-2.07 0-2.86zM5.41 20L4 18.59l7.72-7.72 1.47 1.35L5.41 20z\"/>\n",
              "  </svg>\n",
              "      </button>\n",
              "      \n",
              "  <style>\n",
              "    .colab-df-container {\n",
              "      display:flex;\n",
              "      flex-wrap:wrap;\n",
              "      gap: 12px;\n",
              "    }\n",
              "\n",
              "    .colab-df-convert {\n",
              "      background-color: #E8F0FE;\n",
              "      border: none;\n",
              "      border-radius: 50%;\n",
              "      cursor: pointer;\n",
              "      display: none;\n",
              "      fill: #1967D2;\n",
              "      height: 32px;\n",
              "      padding: 0 0 0 0;\n",
              "      width: 32px;\n",
              "    }\n",
              "\n",
              "    .colab-df-convert:hover {\n",
              "      background-color: #E2EBFA;\n",
              "      box-shadow: 0px 1px 2px rgba(60, 64, 67, 0.3), 0px 1px 3px 1px rgba(60, 64, 67, 0.15);\n",
              "      fill: #174EA6;\n",
              "    }\n",
              "\n",
              "    [theme=dark] .colab-df-convert {\n",
              "      background-color: #3B4455;\n",
              "      fill: #D2E3FC;\n",
              "    }\n",
              "\n",
              "    [theme=dark] .colab-df-convert:hover {\n",
              "      background-color: #434B5C;\n",
              "      box-shadow: 0px 1px 3px 1px rgba(0, 0, 0, 0.15);\n",
              "      filter: drop-shadow(0px 1px 2px rgba(0, 0, 0, 0.3));\n",
              "      fill: #FFFFFF;\n",
              "    }\n",
              "  </style>\n",
              "\n",
              "      <script>\n",
              "        const buttonEl =\n",
              "          document.querySelector('#df-f7c455bc-4f58-45c4-acca-2bc8c42e1bb5 button.colab-df-convert');\n",
              "        buttonEl.style.display =\n",
              "          google.colab.kernel.accessAllowed ? 'block' : 'none';\n",
              "\n",
              "        async function convertToInteractive(key) {\n",
              "          const element = document.querySelector('#df-f7c455bc-4f58-45c4-acca-2bc8c42e1bb5');\n",
              "          const dataTable =\n",
              "            await google.colab.kernel.invokeFunction('convertToInteractive',\n",
              "                                                     [key], {});\n",
              "          if (!dataTable) return;\n",
              "\n",
              "          const docLinkHtml = 'Like what you see? Visit the ' +\n",
              "            '<a target=\"_blank\" href=https://colab.research.google.com/notebooks/data_table.ipynb>data table notebook</a>'\n",
              "            + ' to learn more about interactive tables.';\n",
              "          element.innerHTML = '';\n",
              "          dataTable['output_type'] = 'display_data';\n",
              "          await google.colab.output.renderOutput(dataTable, element);\n",
              "          const docLink = document.createElement('div');\n",
              "          docLink.innerHTML = docLinkHtml;\n",
              "          element.appendChild(docLink);\n",
              "        }\n",
              "      </script>\n",
              "    </div>\n",
              "  </div>\n",
              "  "
            ]
          },
          "metadata": {},
          "execution_count": 3
        }
      ]
    },
    {
      "cell_type": "code",
      "source": [
        "df.to_csv('yf_task.csv')"
      ],
      "metadata": {
        "id": "QCdCcVvNHacn"
      },
      "execution_count": 17,
      "outputs": []
    },
    {
      "cell_type": "markdown",
      "source": [
        "# Task-2"
      ],
      "metadata": {
        "id": "MVQl670tbcwV"
      }
    },
    {
      "cell_type": "code",
      "source": [
        "class Analyse_Data():\n",
        "  def __init__(self,csv_file = None):\n",
        "    self.csv_file = csv_file\n",
        "\n",
        "  def Analysed_Information(self,csv_file):\n",
        "    d = pd.read_csv(csv_file)\n",
        "    lst = []\n",
        "    for i,j in d.iterrows():\n",
        "      if j['open'] > j['close']:\n",
        "        lst.append('red')\n",
        "      else:\n",
        "        lst.append('green') \n",
        "\n",
        "    d['color'] = pd.DataFrame(lst)\n",
        "    return d"
      ],
      "metadata": {
        "id": "8MPKu-bzRSLw"
      },
      "execution_count": 4,
      "outputs": []
    },
    {
      "cell_type": "code",
      "source": [
        "ad = Analyse_Data()\n",
        "ad.Analysed_Information('/content/TSLA.csv').head()"
      ],
      "metadata": {
        "colab": {
          "base_uri": "https://localhost:8080/",
          "height": 206
        },
        "id": "E87kAAqtWKPt",
        "outputId": "1a46f1f0-cd58-4478-a2ff-5c2782ac0b94"
      },
      "execution_count": 5,
      "outputs": [
        {
          "output_type": "execute_result",
          "data": {
            "text/plain": [
              "                    Datetime     open      high       low    close  \\\n",
              "0  2022-01-05 09:30:00-05:00  1146.65  1147.130  1139.640  1144.24   \n",
              "1  2022-01-05 09:31:00-05:00  1144.76  1152.915  1144.135  1149.18   \n",
              "2  2022-01-05 09:32:00-05:00  1149.00  1149.076  1135.190  1137.23   \n",
              "3  2022-01-05 09:33:00-05:00  1138.00  1141.710  1137.789  1139.58   \n",
              "4  2022-01-05 09:34:00-05:00  1136.00  1136.000  1132.480  1133.02   \n",
              "\n",
              "     adj close  volume  color  \n",
              "0  1144.239990  798168    red  \n",
              "1  1149.180054  198677  green  \n",
              "2  1137.229980  199073    red  \n",
              "3  1139.579956  110248  green  \n",
              "4  1133.020142  148998    red  "
            ],
            "text/html": [
              "\n",
              "  <div id=\"df-e7ab6788-e258-4581-9680-f5eb336808dd\">\n",
              "    <div class=\"colab-df-container\">\n",
              "      <div>\n",
              "<style scoped>\n",
              "    .dataframe tbody tr th:only-of-type {\n",
              "        vertical-align: middle;\n",
              "    }\n",
              "\n",
              "    .dataframe tbody tr th {\n",
              "        vertical-align: top;\n",
              "    }\n",
              "\n",
              "    .dataframe thead th {\n",
              "        text-align: right;\n",
              "    }\n",
              "</style>\n",
              "<table border=\"1\" class=\"dataframe\">\n",
              "  <thead>\n",
              "    <tr style=\"text-align: right;\">\n",
              "      <th></th>\n",
              "      <th>Datetime</th>\n",
              "      <th>open</th>\n",
              "      <th>high</th>\n",
              "      <th>low</th>\n",
              "      <th>close</th>\n",
              "      <th>adj close</th>\n",
              "      <th>volume</th>\n",
              "      <th>color</th>\n",
              "    </tr>\n",
              "  </thead>\n",
              "  <tbody>\n",
              "    <tr>\n",
              "      <th>0</th>\n",
              "      <td>2022-01-05 09:30:00-05:00</td>\n",
              "      <td>1146.65</td>\n",
              "      <td>1147.130</td>\n",
              "      <td>1139.640</td>\n",
              "      <td>1144.24</td>\n",
              "      <td>1144.239990</td>\n",
              "      <td>798168</td>\n",
              "      <td>red</td>\n",
              "    </tr>\n",
              "    <tr>\n",
              "      <th>1</th>\n",
              "      <td>2022-01-05 09:31:00-05:00</td>\n",
              "      <td>1144.76</td>\n",
              "      <td>1152.915</td>\n",
              "      <td>1144.135</td>\n",
              "      <td>1149.18</td>\n",
              "      <td>1149.180054</td>\n",
              "      <td>198677</td>\n",
              "      <td>green</td>\n",
              "    </tr>\n",
              "    <tr>\n",
              "      <th>2</th>\n",
              "      <td>2022-01-05 09:32:00-05:00</td>\n",
              "      <td>1149.00</td>\n",
              "      <td>1149.076</td>\n",
              "      <td>1135.190</td>\n",
              "      <td>1137.23</td>\n",
              "      <td>1137.229980</td>\n",
              "      <td>199073</td>\n",
              "      <td>red</td>\n",
              "    </tr>\n",
              "    <tr>\n",
              "      <th>3</th>\n",
              "      <td>2022-01-05 09:33:00-05:00</td>\n",
              "      <td>1138.00</td>\n",
              "      <td>1141.710</td>\n",
              "      <td>1137.789</td>\n",
              "      <td>1139.58</td>\n",
              "      <td>1139.579956</td>\n",
              "      <td>110248</td>\n",
              "      <td>green</td>\n",
              "    </tr>\n",
              "    <tr>\n",
              "      <th>4</th>\n",
              "      <td>2022-01-05 09:34:00-05:00</td>\n",
              "      <td>1136.00</td>\n",
              "      <td>1136.000</td>\n",
              "      <td>1132.480</td>\n",
              "      <td>1133.02</td>\n",
              "      <td>1133.020142</td>\n",
              "      <td>148998</td>\n",
              "      <td>red</td>\n",
              "    </tr>\n",
              "  </tbody>\n",
              "</table>\n",
              "</div>\n",
              "      <button class=\"colab-df-convert\" onclick=\"convertToInteractive('df-e7ab6788-e258-4581-9680-f5eb336808dd')\"\n",
              "              title=\"Convert this dataframe to an interactive table.\"\n",
              "              style=\"display:none;\">\n",
              "        \n",
              "  <svg xmlns=\"http://www.w3.org/2000/svg\" height=\"24px\"viewBox=\"0 0 24 24\"\n",
              "       width=\"24px\">\n",
              "    <path d=\"M0 0h24v24H0V0z\" fill=\"none\"/>\n",
              "    <path d=\"M18.56 5.44l.94 2.06.94-2.06 2.06-.94-2.06-.94-.94-2.06-.94 2.06-2.06.94zm-11 1L8.5 8.5l.94-2.06 2.06-.94-2.06-.94L8.5 2.5l-.94 2.06-2.06.94zm10 10l.94 2.06.94-2.06 2.06-.94-2.06-.94-.94-2.06-.94 2.06-2.06.94z\"/><path d=\"M17.41 7.96l-1.37-1.37c-.4-.4-.92-.59-1.43-.59-.52 0-1.04.2-1.43.59L10.3 9.45l-7.72 7.72c-.78.78-.78 2.05 0 2.83L4 21.41c.39.39.9.59 1.41.59.51 0 1.02-.2 1.41-.59l7.78-7.78 2.81-2.81c.8-.78.8-2.07 0-2.86zM5.41 20L4 18.59l7.72-7.72 1.47 1.35L5.41 20z\"/>\n",
              "  </svg>\n",
              "      </button>\n",
              "      \n",
              "  <style>\n",
              "    .colab-df-container {\n",
              "      display:flex;\n",
              "      flex-wrap:wrap;\n",
              "      gap: 12px;\n",
              "    }\n",
              "\n",
              "    .colab-df-convert {\n",
              "      background-color: #E8F0FE;\n",
              "      border: none;\n",
              "      border-radius: 50%;\n",
              "      cursor: pointer;\n",
              "      display: none;\n",
              "      fill: #1967D2;\n",
              "      height: 32px;\n",
              "      padding: 0 0 0 0;\n",
              "      width: 32px;\n",
              "    }\n",
              "\n",
              "    .colab-df-convert:hover {\n",
              "      background-color: #E2EBFA;\n",
              "      box-shadow: 0px 1px 2px rgba(60, 64, 67, 0.3), 0px 1px 3px 1px rgba(60, 64, 67, 0.15);\n",
              "      fill: #174EA6;\n",
              "    }\n",
              "\n",
              "    [theme=dark] .colab-df-convert {\n",
              "      background-color: #3B4455;\n",
              "      fill: #D2E3FC;\n",
              "    }\n",
              "\n",
              "    [theme=dark] .colab-df-convert:hover {\n",
              "      background-color: #434B5C;\n",
              "      box-shadow: 0px 1px 3px 1px rgba(0, 0, 0, 0.15);\n",
              "      filter: drop-shadow(0px 1px 2px rgba(0, 0, 0, 0.3));\n",
              "      fill: #FFFFFF;\n",
              "    }\n",
              "  </style>\n",
              "\n",
              "      <script>\n",
              "        const buttonEl =\n",
              "          document.querySelector('#df-e7ab6788-e258-4581-9680-f5eb336808dd button.colab-df-convert');\n",
              "        buttonEl.style.display =\n",
              "          google.colab.kernel.accessAllowed ? 'block' : 'none';\n",
              "\n",
              "        async function convertToInteractive(key) {\n",
              "          const element = document.querySelector('#df-e7ab6788-e258-4581-9680-f5eb336808dd');\n",
              "          const dataTable =\n",
              "            await google.colab.kernel.invokeFunction('convertToInteractive',\n",
              "                                                     [key], {});\n",
              "          if (!dataTable) return;\n",
              "\n",
              "          const docLinkHtml = 'Like what you see? Visit the ' +\n",
              "            '<a target=\"_blank\" href=https://colab.research.google.com/notebooks/data_table.ipynb>data table notebook</a>'\n",
              "            + ' to learn more about interactive tables.';\n",
              "          element.innerHTML = '';\n",
              "          dataTable['output_type'] = 'display_data';\n",
              "          await google.colab.output.renderOutput(dataTable, element);\n",
              "          const docLink = document.createElement('div');\n",
              "          docLink.innerHTML = docLinkHtml;\n",
              "          element.appendChild(docLink);\n",
              "        }\n",
              "      </script>\n",
              "    </div>\n",
              "  </div>\n",
              "  "
            ]
          },
          "metadata": {},
          "execution_count": 5
        }
      ]
    },
    {
      "cell_type": "markdown",
      "source": [
        "# Task-3"
      ],
      "metadata": {
        "id": "F8vCWqA3bfwl"
      }
    },
    {
      "cell_type": "code",
      "source": [
        "class Two_Series():\n",
        "  def __init__(self,csv_file = None):\n",
        "    self.csv_file = csv_file\n",
        "\n",
        "  def s1_vs_s2(self, csv_file):\n",
        "    df2 = pd.read_csv(csv_file)\n",
        "    df2.dropna(axis=0,inplace=True)\n",
        "    c1 = 0\n",
        "    c2 = 0\n",
        "    \n",
        "\n",
        "    s1 = list(df2.iloc[:,1])\n",
        "    s2 = list(df2.iloc[:,2])\n",
        "\n",
        "    for i in range(len(s1)-1):\n",
        "      if s1[i] > s2[i] and s2[i + 1] > s1[i+1]:\n",
        "        c2 = c2 + 1\n",
        "        \n",
        "      elif s1[i] < s2[i] and s2[i + 1] < s1[i+1]:\n",
        "        c1 = c1 + 1\n",
        "\n",
        "    print('No. of times s1 crossabove s2 is {}'.format(c1))\n",
        "    print('No. of times s2 crossabove s1 is {}'.format(c2))\n",
        "    print('No. of times s1 crosses s2 is {}'.format(c1+c2)) \n",
        "\n",
        "  def triggers(self,csv_file):\n",
        "    triggers = []\n",
        "    df2 = pd.read_csv(csv_file)\n",
        "    df2.dropna(axis=0,inplace=True)\n",
        "    s1 = list(df2.iloc[:,1])\n",
        "    s2 = list(df2.iloc[:,2])\n",
        "    for i in range(len(s1)-1):\n",
        "      if s1[i] > s2[i] and s2[i + 1] > s1[i+1]:\n",
        "        triggers.append(df2.Datetime.iloc[i+1])\n",
        "      elif s1[i] < s2[i] and s2[i + 1] < s1[i+1]:\n",
        "        triggers.append(df2.Datetime.iloc[i+1])\n",
        "    \n",
        "    print(triggers)    "
      ],
      "metadata": {
        "id": "8L-FHR6BP4pn"
      },
      "execution_count": 6,
      "outputs": []
    },
    {
      "cell_type": "code",
      "source": [
        "t = Two_Series()\n",
        "t.s1_vs_s2('/content/task3.csv')        "
      ],
      "metadata": {
        "colab": {
          "base_uri": "https://localhost:8080/"
        },
        "id": "RjcB0LuZQt9d",
        "outputId": "7bddbf36-e1af-4006-a4ee-14e87d82820e"
      },
      "execution_count": 7,
      "outputs": [
        {
          "output_type": "stream",
          "name": "stdout",
          "text": [
            "No. of times s1 crossabove s2 is 10\n",
            "No. of times s2 crossabove s1 is 10\n",
            "No. of times s1 crosses s2 is 20\n"
          ]
        }
      ]
    },
    {
      "cell_type": "code",
      "source": [
        "t.triggers('/content/task3.csv')"
      ],
      "metadata": {
        "colab": {
          "base_uri": "https://localhost:8080/"
        },
        "id": "jXeoy406va-H",
        "outputId": "5f3fc3e9-ac75-48df-89b8-fbfbe5fcdb59"
      },
      "execution_count": 8,
      "outputs": [
        {
          "output_type": "stream",
          "name": "stdout",
          "text": [
            "['2022-01-05 10:15:00-05:00', '2022-01-05 11:00:00-05:00', '2022-01-05 11:07:00-05:00', '2022-01-05 13:18:00-05:00', '2022-01-05 13:49:00-05:00', '2022-01-05 13:53:00-05:00', '2022-01-05 14:04:00-05:00', '2022-01-05 15:38:00-05:00', '2022-01-05 15:58:00-05:00', '2022-01-06 09:32:00-05:00', '2022-01-06 09:50:00-05:00', '2022-01-06 10:24:00-05:00', '2022-01-06 11:26:00-05:00', '2022-01-06 11:48:00-05:00', '2022-01-06 12:07:00-05:00', '2022-01-06 12:09:00-05:00', '2022-01-06 12:13:00-05:00', '2022-01-06 12:42:00-05:00', '2022-01-06 12:54:00-05:00', '2022-01-06 13:44:00-05:00']\n"
          ]
        }
      ]
    },
    {
      "cell_type": "code",
      "source": [
        "import matplotlib.pyplot as plt\n",
        "import numpy as np\n",
        "df2 = pd.read_csv('/content/task3.csv')\n",
        "df2.dropna(axis=0,inplace=True)\n",
        "s1 = list(df2.iloc[:,1])\n",
        "s2 = list(df2.iloc[:,2])\n",
        "plt.plot(np.arange(0,656,1),np.array(s1), label='s1')\n",
        "plt.plot(np.arange(0,656,1),np.array(s2), label='s2')\n",
        "plt.legend()\n",
        "plt.xlim([0,656])\n",
        "plt.rcParams['figure.figsize'] = [25,15]\n",
        "plt.title('Plot of s1 and s2 vs 1 min timeframe',size=20)\n",
        "plt.xlabel('min', size=15)\n",
        "plt.ylabel('Price', size=15)\n",
        "plt.show()"
      ],
      "metadata": {
        "colab": {
          "base_uri": "https://localhost:8080/",
          "height": 873
        },
        "id": "aEEoWFXCQz56",
        "outputId": "864dc062-4b50-458f-d821-b97204424f6f"
      },
      "execution_count": 23,
      "outputs": [
        {
          "output_type": "display_data",
          "data": {
            "text/plain": [
              "<Figure size 1800x1080 with 1 Axes>"
            ],
            "image/png": "[encoded data removed]"
          },
          "metadata": {
            "needs_background": "light"
          }
        }
      ]
    },
    {
      "cell_type": "markdown",
      "source": [
        "##### A plot of s1 and s2, shows how in a timeframe of 656 minutes, when s1 is above s2 and vice versa. If we carefully observe, we can see 20 transition points between s1 and s2. And, thats what we are getting from the coutings."
      ],
      "metadata": {
        "id": "wMgAOaqsv8P7"
      }
    },
    {
      "cell_type": "code",
      "source": [
        ""
      ],
      "metadata": {
        "id": "780swJrL_MH3"
      },
      "execution_count": null,
      "outputs": []
    }
  ]
}